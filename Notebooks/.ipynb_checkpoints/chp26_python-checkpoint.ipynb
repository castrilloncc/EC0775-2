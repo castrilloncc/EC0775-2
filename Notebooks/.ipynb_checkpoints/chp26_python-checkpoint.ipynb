{
 "cells": [
  {
   "cell_type": "code",
   "execution_count": 1,
   "id": "2c64a649",
   "metadata": {},
   "outputs": [
    {
     "name": "stdout",
     "output_type": "stream",
     "text": [
      "\n",
      "  ___  ____  ____  ____  ____ ©\n",
      " /__    /   ____/   /   ____/      17.0\n",
      "___/   /   /___/   /   /___/       MP—Parallel Edition\n",
      "\n",
      " Statistics and Data Science       Copyright 1985-2021 StataCorp LLC\n",
      "                                   StataCorp\n",
      "                                   4905 Lakeway Drive\n",
      "                                   College Station, Texas 77845 USA\n",
      "                                   800-STATA-PC        https://www.stata.com\n",
      "                                   979-696-4600        stata@stata.com\n",
      "\n",
      "Stata license: Single-user 4-core  perpetual\n",
      "Serial number: 501706303466\n",
      "  Licensed to: David Tomas Jacho-Chavez\n",
      "               Emory University\n",
      "\n",
      "Notes:\n",
      "      1. Unicode is supported; see help unicode_advice.\n",
      "      2. More than 2 billion observations are allowed; see help obs_advice.\n",
      "      3. Maximum number of variables is set to 5,000; see help set_maxvar.\n"
     ]
    }
   ],
   "source": [
    "import stata_setup\n",
    "# If Windows 'uncomment' the following line\n",
    "#stata_setup.config(\"C:/Program Files/Stata17/\", \"mp\")\n",
    "\n",
    "# If Linux 'uncomment' the following line\n",
    "stata_setup.config(\"/usr/local/stata17/\", \"mp\")"
   ]
  },
  {
   "cell_type": "markdown",
   "id": "ee101284",
   "metadata": {},
   "source": [
    "### Example: Doctor Visits of the Elderly"
   ]
  },
  {
   "cell_type": "markdown",
   "id": "eace0a52",
   "metadata": {},
   "source": [
    "Loading the data set"
   ]
  },
  {
   "cell_type": "code",
   "execution_count": 2,
   "id": "65bac0bb",
   "metadata": {},
   "outputs": [
    {
     "name": "stdout",
     "output_type": "stream",
     "text": [
      "\n",
      ". use \"http://www.stata-press.com/data/r13/docvisits\", clear\n",
      "\n",
      ". list docvis private chronic female income in 1/6, clean \n",
      "\n",
      "       docvis   private   chronic   female    income  \n",
      "  1.        0         1         0        1        30  \n",
      "  2.        1         1         0        0        10  \n",
      "  3.       15         1         1        1        27  \n",
      "  4.        0         0         0        0     11.25  \n",
      "  5.        2         1         0        1     76.33  \n",
      "  6.        2         1         0        0   185.557  \n",
      "\n",
      ". \n"
     ]
    }
   ],
   "source": [
    "%%stata\n",
    "use \"http://www.stata-press.com/data/r13/docvisits\", clear\n",
    "list docvis private chronic female income in 1/6, clean "
   ]
  },
  {
   "cell_type": "markdown",
   "id": "27d2c1b8",
   "metadata": {},
   "source": [
    "The _structural model_ of interest is\n",
    "\n",
    "\\begin{align*}\n",
    "&  \\mathbb{E}[\\left.  \\mathtt{docvis}\\right\\vert \\mathtt{private}\\text{,}\\mathtt{chronic}\\text{,}\\mathtt{female}\\text{,}\\mathtt{income}]\\\\\n",
    "&  =\\exp\\{\\beta_{1}\\mathtt{private}_{i}+\\beta_{2}\\mathtt{chronic}_{i}%\n",
    "+\\beta_{3}\\mathtt{female}_{i}+\\beta_{4}\\mathtt{income}_{i}+\\beta_{5}\\}\\text{,}%\n",
    "\\end{align*}\n",
    "\n",
    "where\n",
    "\n",
    "* $\\texttt{docvis}$: number of doctor visits.\n",
    "* $\\texttt{private}$: =1 if private insurance.\n",
    "* $\\texttt{chronic}$: =1 if a chronic condition.\n",
    "* $\\texttt{female}$: =1 if female.\n",
    "* $\\texttt{income}$: income in thousand of USD."
   ]
  },
  {
   "cell_type": "code",
   "execution_count": 3,
   "id": "889b0533",
   "metadata": {},
   "outputs": [
    {
     "name": "stdout",
     "output_type": "stream",
     "text": [
      "\n",
      ". set scheme s1mono\n",
      "\n",
      ". histogram docvis, start(0) width(1) xtitle(Doctor Visits)\n",
      "(bin=134, start=0, width=1)\n",
      "\n",
      ". \n"
     ]
    },
    {
     "data": {
      "image/svg+xml": [
       "<svg xmlns=\"http://www.w3.org/2000/svg\" xmlns:xlink=\"http://www.w3.org/1999/xlink\" version=\"1.1\" width=\"528px\" height=\"384px\" viewBox=\"0 0 3960 2880\">\n",
       "\t<desc>Stata Graph - Graph</desc>\n",
       "\t<rect x=\"0\" y=\"0\" width=\"3960\" height=\"2880\" style=\"fill:#FFFFFF;stroke:none\"/>\n",
       "\t<rect x=\"0.00\" y=\"0.00\" width=\"3959.88\" height=\"2880.00\" style=\"fill:#FFFFFF\"/>\n",
       "\t<rect x=\"2.88\" y=\"2.88\" width=\"3954.12\" height=\"2874.24\" style=\"fill:none;stroke:#FFFFFF;stroke-width:5.76\"/>\n",
       "\t<rect x=\"393.68\" y=\"103.74\" width=\"3462.46\" height=\"2382.57\" style=\"fill:none;stroke:#000000;stroke-width:5.76\"/>\n",
       "\t<rect x=\"465.30\" y=\"373.37\" width=\"22.15\" height=\"2115.82\" style=\"fill:#808080\"/>\n",
       "\t<rect x=\"469.62\" y=\"377.69\" width=\"13.51\" height=\"2107.18\" style=\"fill:none;stroke:#000000;stroke-width:8.64\"/>\n",
       "\t<rect x=\"487.45\" y=\"1566.97\" width=\"22.15\" height=\"922.21\" style=\"fill:#808080\"/>\n",
       "\t<rect x=\"491.77\" y=\"1571.29\" width=\"13.51\" height=\"913.57\" style=\"fill:none;stroke:#000000;stroke-width:8.64\"/>\n",
       "\t<rect x=\"509.60\" y=\"1884.52\" width=\"22.28\" height=\"604.66\" style=\"fill:#808080\"/>\n",
       "\t<rect x=\"513.92\" y=\"1888.84\" width=\"13.64\" height=\"596.02\" style=\"fill:none;stroke:#000000;stroke-width:8.64\"/>\n",
       "\t<rect x=\"531.88\" y=\"2093.92\" width=\"22.15\" height=\"395.27\" style=\"fill:#808080\"/>\n",
       "\t<rect x=\"536.20\" y=\"2098.24\" width=\"13.51\" height=\"386.63\" style=\"fill:none;stroke:#000000;stroke-width:8.64\"/>\n",
       "\t<rect x=\"554.03\" y=\"2175.59\" width=\"22.28\" height=\"313.59\" style=\"fill:#808080\"/>\n",
       "\t<rect x=\"558.35\" y=\"2179.91\" width=\"13.64\" height=\"304.95\" style=\"fill:none;stroke:#000000;stroke-width:8.64\"/>\n",
       "\t<rect x=\"576.30\" y=\"2220.39\" width=\"22.15\" height=\"268.79\" style=\"fill:#808080\"/>\n",
       "\t<rect x=\"580.62\" y=\"2224.71\" width=\"13.51\" height=\"260.15\" style=\"fill:none;stroke:#000000;stroke-width:8.64\"/>\n",
       "\t<rect x=\"598.46\" y=\"2323.23\" width=\"22.15\" height=\"165.95\" style=\"fill:#808080\"/>\n",
       "\t<rect x=\"602.77\" y=\"2327.55\" width=\"13.51\" height=\"157.31\" style=\"fill:none;stroke:#000000;stroke-width:8.64\"/>\n",
       "\t<rect x=\"620.61\" y=\"2317.91\" width=\"22.27\" height=\"171.28\" style=\"fill:#808080\"/>\n",
       "\t<rect x=\"624.93\" y=\"2322.23\" width=\"13.64\" height=\"162.64\" style=\"fill:none;stroke:#000000;stroke-width:8.64\"/>\n",
       "\t<rect x=\"642.88\" y=\"2365.31\" width=\"22.15\" height=\"123.88\" style=\"fill:#808080\"/>\n",
       "\t<rect x=\"647.20\" y=\"2369.63\" width=\"13.51\" height=\"115.24\" style=\"fill:none;stroke:#000000;stroke-width:8.64\"/>\n",
       "\t<rect x=\"665.03\" y=\"2389.07\" width=\"22.27\" height=\"100.12\" style=\"fill:#808080\"/>\n",
       "\t<rect x=\"669.35\" y=\"2393.39\" width=\"13.64\" height=\"91.48\" style=\"fill:none;stroke:#000000;stroke-width:8.64\"/>\n",
       "\t<rect x=\"687.31\" y=\"2425.95\" width=\"22.15\" height=\"63.24\" style=\"fill:#808080\"/>\n",
       "\t<rect x=\"691.63\" y=\"2430.27\" width=\"13.51\" height=\"54.60\" style=\"fill:none;stroke:#000000;stroke-width:8.64\"/>\n",
       "\t<rect x=\"709.46\" y=\"2429.91\" width=\"22.27\" height=\"59.28\" style=\"fill:#808080\"/>\n",
       "\t<rect x=\"713.78\" y=\"2434.23\" width=\"13.64\" height=\"50.64\" style=\"fill:none;stroke:#000000;stroke-width:8.64\"/>\n",
       "\t<rect x=\"731.73\" y=\"2428.55\" width=\"22.15\" height=\"60.64\" style=\"fill:#808080\"/>\n",
       "\t<rect x=\"736.05\" y=\"2432.87\" width=\"13.51\" height=\"52.00\" style=\"fill:none;stroke:#000000;stroke-width:8.64\"/>\n",
       "\t<rect x=\"753.89\" y=\"2418.03\" width=\"22.15\" height=\"71.16\" style=\"fill:#808080\"/>\n",
       "\t<rect x=\"758.20\" y=\"2422.35\" width=\"13.51\" height=\"62.52\" style=\"fill:none;stroke:#000000;stroke-width:8.64\"/>\n",
       "\t<rect x=\"776.04\" y=\"2436.47\" width=\"22.27\" height=\"52.72\" style=\"fill:#808080\"/>\n",
       "\t<rect x=\"780.36\" y=\"2440.79\" width=\"13.64\" height=\"44.08\" style=\"fill:none;stroke:#000000;stroke-width:8.64\"/>\n",
       "\t<rect x=\"798.31\" y=\"2454.91\" width=\"22.15\" height=\"34.28\" style=\"fill:#808080\"/>\n",
       "\t<rect x=\"802.63\" y=\"2459.23\" width=\"13.51\" height=\"25.64\" style=\"fill:none;stroke:#000000;stroke-width:8.64\"/>\n",
       "\t<rect x=\"820.46\" y=\"2448.35\" width=\"22.27\" height=\"40.84\" style=\"fill:#808080\"/>\n",
       "\t<rect x=\"824.78\" y=\"2452.67\" width=\"13.64\" height=\"32.20\" style=\"fill:none;stroke:#000000;stroke-width:8.64\"/>\n",
       "\t<rect x=\"842.74\" y=\"2472.11\" width=\"22.15\" height=\"17.08\" style=\"fill:#808080\"/>\n",
       "\t<rect x=\"847.06\" y=\"2476.43\" width=\"13.51\" height=\"8.44\" style=\"fill:none;stroke:#000000;stroke-width:8.64\"/>\n",
       "\t<rect x=\"864.89\" y=\"2474.71\" width=\"22.15\" height=\"14.48\" style=\"fill:#808080\"/>\n",
       "\t<rect x=\"869.21\" y=\"2479.03\" width=\"13.51\" height=\"5.84\" style=\"fill:none;stroke:#000000;stroke-width:8.64\"/>\n",
       "\t<rect x=\"887.04\" y=\"2468.15\" width=\"22.28\" height=\"21.04\" style=\"fill:#808080\"/>\n",
       "\t<rect x=\"891.36\" y=\"2472.47\" width=\"13.64\" height=\"12.40\" style=\"fill:none;stroke:#000000;stroke-width:8.64\"/>\n",
       "\t<rect x=\"909.32\" y=\"2473.34\" width=\"22.15\" height=\"15.84\" style=\"fill:#808080\"/>\n",
       "\t<rect x=\"913.63\" y=\"2477.66\" width=\"13.51\" height=\"7.20\" style=\"fill:none;stroke:#000000;stroke-width:8.64\"/>\n",
       "\t<rect x=\"931.47\" y=\"2480.03\" width=\"22.28\" height=\"9.16\" style=\"fill:#808080\"/>\n",
       "\t<rect x=\"935.79\" y=\"2484.35\" width=\"13.64\" height=\"0.52\" style=\"fill:none;stroke:#000000;stroke-width:8.64\"/>\n",
       "\t<rect x=\"953.74\" y=\"2472.11\" width=\"22.15\" height=\"17.08\" style=\"fill:#808080\"/>\n",
       "\t<rect x=\"958.06\" y=\"2476.43\" width=\"13.51\" height=\"8.44\" style=\"fill:none;stroke:#000000;stroke-width:8.64\"/>\n",
       "\t<rect x=\"975.89\" y=\"2482.63\" width=\"22.27\" height=\"6.56\" style=\"fill:#808080\"/>\n",
       "\t<rect x=\"980.21\" y=\"2484.87\" width=\"13.64\" height=\"2.08\" style=\"fill:none;stroke:#000000;stroke-width:8.64\"/>\n",
       "\t<rect x=\"998.17\" y=\"2481.27\" width=\"22.15\" height=\"7.92\" style=\"fill:#808080\"/>\n",
       "\t<rect x=\"1002.49\" y=\"2484.87\" width=\"13.51\" height=\"0.72\" style=\"fill:none;stroke:#000000;stroke-width:8.64\"/>\n",
       "\t<rect x=\"1020.32\" y=\"2486.59\" width=\"22.15\" height=\"2.60\" style=\"fill:#808080\"/>\n",
       "\t<rect x=\"1024.64\" y=\"2484.87\" width=\"13.51\" height=\"6.04\" style=\"fill:none;stroke:#000000;stroke-width:8.64\"/>\n",
       "\t<rect x=\"1042.47\" y=\"2480.03\" width=\"22.27\" height=\"9.16\" style=\"fill:#808080\"/>\n",
       "\t<rect x=\"1046.79\" y=\"2484.35\" width=\"13.64\" height=\"0.52\" style=\"fill:none;stroke:#000000;stroke-width:8.64\"/>\n",
       "\t<rect x=\"1064.74\" y=\"2478.67\" width=\"22.15\" height=\"10.52\" style=\"fill:#808080\"/>\n",
       "\t<rect x=\"1069.06\" y=\"2482.99\" width=\"13.51\" height=\"1.88\" style=\"fill:none;stroke:#000000;stroke-width:8.64\"/>\n",
       "\t<rect x=\"1086.90\" y=\"2481.27\" width=\"22.28\" height=\"7.92\" style=\"fill:#808080\"/>\n",
       "\t<rect x=\"1091.22\" y=\"2484.87\" width=\"13.64\" height=\"0.72\" style=\"fill:none;stroke:#000000;stroke-width:8.64\"/>\n",
       "\t<rect x=\"1109.17\" y=\"2486.59\" width=\"22.15\" height=\"2.60\" style=\"fill:#808080\"/>\n",
       "\t<rect x=\"1113.49\" y=\"2484.87\" width=\"13.51\" height=\"6.04\" style=\"fill:none;stroke:#000000;stroke-width:8.64\"/>\n",
       "\t<rect x=\"1131.32\" y=\"2481.27\" width=\"22.28\" height=\"7.92\" style=\"fill:#808080\"/>\n",
       "\t<rect x=\"1135.64\" y=\"2484.87\" width=\"13.64\" height=\"0.72\" style=\"fill:none;stroke:#000000;stroke-width:8.64\"/>\n",
       "\t<rect x=\"1153.60\" y=\"2486.59\" width=\"22.15\" height=\"2.60\" style=\"fill:#808080\"/>\n",
       "\t<rect x=\"1157.92\" y=\"2484.87\" width=\"13.51\" height=\"6.04\" style=\"fill:none;stroke:#000000;stroke-width:8.64\"/>\n",
       "\t<rect x=\"1175.75\" y=\"2483.99\" width=\"22.15\" height=\"5.20\" style=\"fill:#808080\"/>\n",
       "\t<rect x=\"1180.07\" y=\"2484.87\" width=\"13.51\" height=\"3.44\" style=\"fill:none;stroke:#000000;stroke-width:8.64\"/>\n",
       "\t<rect x=\"1197.90\" y=\"2482.63\" width=\"22.27\" height=\"6.56\" style=\"fill:#808080\"/>\n",
       "\t<rect x=\"1202.22\" y=\"2484.87\" width=\"13.64\" height=\"2.08\" style=\"fill:none;stroke:#000000;stroke-width:8.64\"/>\n",
       "\t<rect x=\"1242.33\" y=\"2486.59\" width=\"22.27\" height=\"2.60\" style=\"fill:#808080\"/>\n",
       "\t<rect x=\"1246.65\" y=\"2484.87\" width=\"13.64\" height=\"6.04\" style=\"fill:none;stroke:#000000;stroke-width:8.64\"/>\n",
       "\t<rect x=\"1264.60\" y=\"2485.23\" width=\"22.15\" height=\"3.96\" style=\"fill:#808080\"/>\n",
       "\t<rect x=\"1268.92\" y=\"2484.87\" width=\"13.51\" height=\"4.68\" style=\"fill:none;stroke:#000000;stroke-width:8.64\"/>\n",
       "\t<rect x=\"1286.75\" y=\"2485.23\" width=\"22.15\" height=\"3.96\" style=\"fill:#808080\"/>\n",
       "\t<rect x=\"1291.07\" y=\"2484.87\" width=\"13.51\" height=\"4.68\" style=\"fill:none;stroke:#000000;stroke-width:8.64\"/>\n",
       "\t<rect x=\"1308.90\" y=\"2487.95\" width=\"22.28\" height=\"1.24\" style=\"fill:#808080\"/>\n",
       "\t<rect x=\"1313.22\" y=\"2484.87\" width=\"13.64\" height=\"7.40\" style=\"fill:none;stroke:#000000;stroke-width:8.64\"/>\n",
       "\t<rect x=\"1331.18\" y=\"2485.23\" width=\"22.15\" height=\"3.96\" style=\"fill:#808080\"/>\n",
       "\t<rect x=\"1335.50\" y=\"2484.87\" width=\"13.51\" height=\"4.68\" style=\"fill:none;stroke:#000000;stroke-width:8.64\"/>\n",
       "\t<rect x=\"1353.33\" y=\"2481.27\" width=\"22.28\" height=\"7.92\" style=\"fill:#808080\"/>\n",
       "\t<rect x=\"1357.65\" y=\"2484.87\" width=\"13.64\" height=\"0.72\" style=\"fill:none;stroke:#000000;stroke-width:8.64\"/>\n",
       "\t<rect x=\"1375.61\" y=\"2485.23\" width=\"22.15\" height=\"3.96\" style=\"fill:#808080\"/>\n",
       "\t<rect x=\"1379.92\" y=\"2484.87\" width=\"13.51\" height=\"4.68\" style=\"fill:none;stroke:#000000;stroke-width:8.64\"/>\n",
       "\t<rect x=\"1397.76\" y=\"2483.99\" width=\"22.28\" height=\"5.20\" style=\"fill:#808080\"/>\n",
       "\t<rect x=\"1402.08\" y=\"2484.87\" width=\"13.64\" height=\"3.44\" style=\"fill:none;stroke:#000000;stroke-width:8.64\"/>\n",
       "\t<rect x=\"1420.03\" y=\"2485.23\" width=\"22.15\" height=\"3.96\" style=\"fill:#808080\"/>\n",
       "\t<rect x=\"1424.35\" y=\"2484.87\" width=\"13.51\" height=\"4.68\" style=\"fill:none;stroke:#000000;stroke-width:8.64\"/>\n",
       "\t<rect x=\"1442.18\" y=\"2485.23\" width=\"22.15\" height=\"3.96\" style=\"fill:#808080\"/>\n",
       "\t<rect x=\"1446.50\" y=\"2484.87\" width=\"13.51\" height=\"4.68\" style=\"fill:none;stroke:#000000;stroke-width:8.64\"/>\n",
       "\t<rect x=\"1464.33\" y=\"2487.95\" width=\"22.28\" height=\"1.24\" style=\"fill:#808080\"/>\n",
       "\t<rect x=\"1468.65\" y=\"2484.87\" width=\"13.64\" height=\"7.40\" style=\"fill:none;stroke:#000000;stroke-width:8.64\"/>\n",
       "\t<rect x=\"1486.61\" y=\"2487.95\" width=\"22.15\" height=\"1.24\" style=\"fill:#808080\"/>\n",
       "\t<rect x=\"1490.93\" y=\"2484.87\" width=\"13.51\" height=\"7.40\" style=\"fill:none;stroke:#000000;stroke-width:8.64\"/>\n",
       "\t<rect x=\"1508.76\" y=\"2486.59\" width=\"22.28\" height=\"2.60\" style=\"fill:#808080\"/>\n",
       "\t<rect x=\"1513.08\" y=\"2484.87\" width=\"13.64\" height=\"6.04\" style=\"fill:none;stroke:#000000;stroke-width:8.64\"/>\n",
       "\t<rect x=\"1531.04\" y=\"2483.99\" width=\"22.15\" height=\"5.20\" style=\"fill:#808080\"/>\n",
       "\t<rect x=\"1535.35\" y=\"2484.87\" width=\"13.51\" height=\"3.44\" style=\"fill:none;stroke:#000000;stroke-width:8.64\"/>\n",
       "\t<rect x=\"1553.19\" y=\"2487.95\" width=\"22.28\" height=\"1.24\" style=\"fill:#808080\"/>\n",
       "\t<rect x=\"1557.51\" y=\"2484.87\" width=\"13.64\" height=\"7.40\" style=\"fill:none;stroke:#000000;stroke-width:8.64\"/>\n",
       "\t<rect x=\"1619.76\" y=\"2486.59\" width=\"22.27\" height=\"2.60\" style=\"fill:#808080\"/>\n",
       "\t<rect x=\"1624.08\" y=\"2484.87\" width=\"13.64\" height=\"6.04\" style=\"fill:none;stroke:#000000;stroke-width:8.64\"/>\n",
       "\t<rect x=\"1642.04\" y=\"2487.95\" width=\"22.15\" height=\"1.24\" style=\"fill:#808080\"/>\n",
       "\t<rect x=\"1646.36\" y=\"2484.87\" width=\"13.51\" height=\"7.40\" style=\"fill:none;stroke:#000000;stroke-width:8.64\"/>\n",
       "\t<rect x=\"1664.19\" y=\"2486.59\" width=\"22.27\" height=\"2.60\" style=\"fill:#808080\"/>\n",
       "\t<rect x=\"1668.51\" y=\"2484.87\" width=\"13.64\" height=\"6.04\" style=\"fill:none;stroke:#000000;stroke-width:8.64\"/>\n",
       "\t<rect x=\"1686.47\" y=\"2485.23\" width=\"22.15\" height=\"3.96\" style=\"fill:#808080\"/>\n",
       "\t<rect x=\"1690.78\" y=\"2484.87\" width=\"13.51\" height=\"4.68\" style=\"fill:none;stroke:#000000;stroke-width:8.64\"/>\n",
       "\t<rect x=\"1753.04\" y=\"2486.59\" width=\"22.15\" height=\"2.60\" style=\"fill:#808080\"/>\n",
       "\t<rect x=\"1757.36\" y=\"2484.87\" width=\"13.51\" height=\"6.04\" style=\"fill:none;stroke:#000000;stroke-width:8.64\"/>\n",
       "\t<rect x=\"1819.62\" y=\"2487.95\" width=\"22.28\" height=\"1.24\" style=\"fill:#808080\"/>\n",
       "\t<rect x=\"1823.94\" y=\"2484.87\" width=\"13.64\" height=\"7.40\" style=\"fill:none;stroke:#000000;stroke-width:8.64\"/>\n",
       "\t<rect x=\"1841.90\" y=\"2487.95\" width=\"22.15\" height=\"1.24\" style=\"fill:#808080\"/>\n",
       "\t<rect x=\"1846.21\" y=\"2484.87\" width=\"13.51\" height=\"7.40\" style=\"fill:none;stroke:#000000;stroke-width:8.64\"/>\n",
       "\t<rect x=\"1886.20\" y=\"2487.95\" width=\"22.28\" height=\"1.24\" style=\"fill:#808080\"/>\n",
       "\t<rect x=\"1890.52\" y=\"2484.87\" width=\"13.64\" height=\"7.40\" style=\"fill:none;stroke:#000000;stroke-width:8.64\"/>\n",
       "\t<rect x=\"1930.62\" y=\"2486.59\" width=\"22.28\" height=\"2.60\" style=\"fill:#808080\"/>\n",
       "\t<rect x=\"1934.94\" y=\"2484.87\" width=\"13.64\" height=\"6.04\" style=\"fill:none;stroke:#000000;stroke-width:8.64\"/>\n",
       "\t<rect x=\"2019.48\" y=\"2487.95\" width=\"22.15\" height=\"1.24\" style=\"fill:#808080\"/>\n",
       "\t<rect x=\"2023.80\" y=\"2484.87\" width=\"13.51\" height=\"7.40\" style=\"fill:none;stroke:#000000;stroke-width:8.64\"/>\n",
       "\t<rect x=\"2108.33\" y=\"2487.95\" width=\"22.15\" height=\"1.24\" style=\"fill:#808080\"/>\n",
       "\t<rect x=\"2112.65\" y=\"2484.87\" width=\"13.51\" height=\"7.40\" style=\"fill:none;stroke:#000000;stroke-width:8.64\"/>\n",
       "\t<rect x=\"2197.06\" y=\"2487.95\" width=\"22.28\" height=\"1.24\" style=\"fill:#808080\"/>\n",
       "\t<rect x=\"2201.38\" y=\"2484.87\" width=\"13.64\" height=\"7.40\" style=\"fill:none;stroke:#000000;stroke-width:8.64\"/>\n",
       "\t<rect x=\"2241.48\" y=\"2487.95\" width=\"22.28\" height=\"1.24\" style=\"fill:#808080\"/>\n",
       "\t<rect x=\"2245.80\" y=\"2484.87\" width=\"13.64\" height=\"7.40\" style=\"fill:none;stroke:#000000;stroke-width:8.64\"/>\n",
       "\t<rect x=\"2352.49\" y=\"2486.59\" width=\"22.27\" height=\"2.60\" style=\"fill:#808080\"/>\n",
       "\t<rect x=\"2356.81\" y=\"2484.87\" width=\"13.64\" height=\"6.04\" style=\"fill:none;stroke:#000000;stroke-width:8.64\"/>\n",
       "\t<rect x=\"2530.19\" y=\"2487.95\" width=\"22.15\" height=\"1.24\" style=\"fill:#808080\"/>\n",
       "\t<rect x=\"2534.51\" y=\"2484.87\" width=\"13.51\" height=\"7.40\" style=\"fill:none;stroke:#000000;stroke-width:8.64\"/>\n",
       "\t<rect x=\"2752.20\" y=\"2487.95\" width=\"22.15\" height=\"1.24\" style=\"fill:#808080\"/>\n",
       "\t<rect x=\"2756.52\" y=\"2484.87\" width=\"13.51\" height=\"7.40\" style=\"fill:none;stroke:#000000;stroke-width:8.64\"/>\n",
       "\t<rect x=\"3418.22\" y=\"2487.95\" width=\"22.28\" height=\"1.24\" style=\"fill:#808080\"/>\n",
       "\t<rect x=\"3422.54\" y=\"2484.87\" width=\"13.64\" height=\"7.40\" style=\"fill:none;stroke:#000000;stroke-width:8.64\"/>\n",
       "\t<line x1=\"390.80\" y1=\"2489.19\" x2=\"390.80\" y2=\"100.86\" style=\"stroke:#000000;stroke-width:5.76\"/>\n",
       "\t<line x1=\"390.80\" y1=\"2489.19\" x2=\"350.83\" y2=\"2489.19\" style=\"stroke:#000000;stroke-width:5.76\"/>\n",
       "\t<text x=\"300.72\" y=\"2489.19\" style=\"font-family:'Helvetica';font-size:99.99px;fill:#000000\" transform=\"rotate(-90 300.72,2489.19)\" text-anchor=\"middle\">0</text>\n",
       "\t<line x1=\"390.80\" y1=\"1907.91\" x2=\"350.83\" y2=\"1907.91\" style=\"stroke:#000000;stroke-width:5.76\"/>\n",
       "\t<text x=\"300.72\" y=\"1907.91\" style=\"font-family:'Helvetica';font-size:99.99px;fill:#000000\" transform=\"rotate(-90 300.72,1907.91)\" text-anchor=\"middle\">.1</text>\n",
       "\t<line x1=\"390.80\" y1=\"1326.64\" x2=\"350.83\" y2=\"1326.64\" style=\"stroke:#000000;stroke-width:5.76\"/>\n",
       "\t<text x=\"300.72\" y=\"1326.64\" style=\"font-family:'Helvetica';font-size:99.99px;fill:#000000\" transform=\"rotate(-90 300.72,1326.64)\" text-anchor=\"middle\">.2</text>\n",
       "\t<line x1=\"390.80\" y1=\"745.37\" x2=\"350.83\" y2=\"745.37\" style=\"stroke:#000000;stroke-width:5.76\"/>\n",
       "\t<text x=\"300.72\" y=\"745.37\" style=\"font-family:'Helvetica';font-size:99.99px;fill:#000000\" transform=\"rotate(-90 300.72,745.37)\" text-anchor=\"middle\">.3</text>\n",
       "\t<line x1=\"390.80\" y1=\"164.22\" x2=\"350.83\" y2=\"164.22\" style=\"stroke:#000000;stroke-width:5.76\"/>\n",
       "\t<text x=\"300.72\" y=\"164.22\" style=\"font-family:'Helvetica';font-size:99.99px;fill:#000000\" transform=\"rotate(-90 300.72,164.22)\" text-anchor=\"middle\">.4</text>\n",
       "\t<text x=\"190.71\" y=\"1294.96\" style=\"font-family:'Helvetica';font-size:99.99px;fill:#000000\" transform=\"rotate(-90 190.71,1294.96)\" text-anchor=\"middle\">Density</text>\n",
       "\t<line x1=\"390.80\" y1=\"2489.19\" x2=\"3859.02\" y2=\"2489.19\" style=\"stroke:#000000;stroke-width:5.76\"/>\n",
       "\t<line x1=\"465.30\" y1=\"2489.19\" x2=\"465.30\" y2=\"2529.16\" style=\"stroke:#000000;stroke-width:5.76\"/>\n",
       "\t<text x=\"465.30\" y=\"2619.14\" style=\"font-family:'Helvetica';font-size:99.99px;fill:#000000\" text-anchor=\"middle\">0</text>\n",
       "\t<line x1=\"1575.46\" y1=\"2489.19\" x2=\"1575.46\" y2=\"2529.16\" style=\"stroke:#000000;stroke-width:5.76\"/>\n",
       "\t<text x=\"1575.46\" y=\"2619.14\" style=\"font-family:'Helvetica';font-size:99.99px;fill:#000000\" text-anchor=\"middle\">50</text>\n",
       "\t<line x1=\"2685.62\" y1=\"2489.19\" x2=\"2685.62\" y2=\"2529.16\" style=\"stroke:#000000;stroke-width:5.76\"/>\n",
       "\t<text x=\"2685.62\" y=\"2619.14\" style=\"font-family:'Helvetica';font-size:99.99px;fill:#000000\" text-anchor=\"middle\">100</text>\n",
       "\t<line x1=\"3795.66\" y1=\"2489.19\" x2=\"3795.66\" y2=\"2529.16\" style=\"stroke:#000000;stroke-width:5.76\"/>\n",
       "\t<text x=\"3795.66\" y=\"2619.14\" style=\"font-family:'Helvetica';font-size:99.99px;fill:#000000\" text-anchor=\"middle\">150</text>\n",
       "\t<text x=\"2124.91\" y=\"2729.16\" style=\"font-family:'Helvetica';font-size:99.99px;fill:#000000\" text-anchor=\"middle\">Doctor Visits</text>\n",
       "</svg>"
      ],
      "text/plain": [
       "<IPython.core.display.SVG object>"
      ]
     },
     "metadata": {},
     "output_type": "display_data"
    }
   ],
   "source": [
    "%%stata\n",
    "set scheme s1mono\n",
    "histogram docvis, start(0) width(1) xtitle(Doctor Visits)"
   ]
  },
  {
   "cell_type": "code",
   "execution_count": 4,
   "id": "9ce5abd2",
   "metadata": {},
   "outputs": [
    {
     "name": "stdout",
     "output_type": "stream",
     "text": [
      "\n",
      "Iteration 0:   log pseudolikelihood = -18504.413  \n",
      "Iteration 1:   log pseudolikelihood = -18503.549  \n",
      "Iteration 2:   log pseudolikelihood = -18503.549  \n",
      "\n",
      "Poisson regression                                      Number of obs =  4,412\n",
      "                                                        Wald chi2(4)  = 594.72\n",
      "                                                        Prob > chi2   = 0.0000\n",
      "Log pseudolikelihood = -18503.549                       Pseudo R2     = 0.1930\n",
      "\n",
      "------------------------------------------------------------------------------\n",
      "             |               Robust\n",
      "      docvis | Coefficient  std. err.      z    P>|z|     [95% conf. interval]\n",
      "-------------+----------------------------------------------------------------\n",
      "     private |   .7986652   .1090014     7.33   0.000     .5850263    1.012304\n",
      "     chronic |   1.091865   .0559951    19.50   0.000     .9821167    1.201614\n",
      "      female |   .4925481   .0585365     8.41   0.000     .3778187    .6072774\n",
      "      income |    .003557   .0010825     3.29   0.001     .0014354    .0056787\n",
      "       _cons |  -.2297262   .1108732    -2.07   0.038    -.4470338   -.0124186\n",
      "------------------------------------------------------------------------------\n"
     ]
    }
   ],
   "source": [
    "%%stata\n",
    "poisson docvis private chronic female income, robust"
   ]
  },
  {
   "cell_type": "code",
   "execution_count": 5,
   "id": "11d6a6f0",
   "metadata": {},
   "outputs": [
    {
     "name": "stdout",
     "output_type": "stream",
     "text": [
      "\n",
      "       _nl_1: 100*(exp(_b[private])-1)\n",
      "       _nl_2: 100*(exp(_b[chronic])-1)\n",
      "       _nl_3: 100*(exp(_b[female])-1)\n",
      "       _nl_4: 100*_b[income]*2\n",
      "\n",
      "------------------------------------------------------------------------------\n",
      "      docvis | Coefficient  Std. err.      z    P>|z|     [95% conf. interval]\n",
      "-------------+----------------------------------------------------------------\n",
      "       _nl_1 |   122.2572   24.22636     5.05   0.000     74.77445      169.74\n",
      "       _nl_2 |   197.9827   16.68558    11.87   0.000     165.2795    230.6858\n",
      "       _nl_3 |   63.64808   9.579381     6.64   0.000     44.87284    82.42332\n",
      "       _nl_4 |   .7114025   .2164979     3.29   0.001     .2870745    1.135731\n",
      "------------------------------------------------------------------------------\n"
     ]
    }
   ],
   "source": [
    "%%stata\n",
    "nlcom (100*(exp(_b[private])-1)) (100*(exp(_b[chronic])-1)) (100*(exp(_b[female])-1)) (100*_b[income]*2)"
   ]
  },
  {
   "cell_type": "markdown",
   "id": "a5ab27e5",
   "metadata": {},
   "source": [
    "Other factors equal:\n",
    "* The expected number of doctor visits for a person with private insurance is estimated to be about 122.26% higher than for an elderly person without private insurance with the same values for the other explanatory variables.\n",
    "* The expected number of doctor visits for a person with a chronic disease is estimated to be about 198% higher than for an elderly person without a chronice disease with the same characteristics.\n",
    "* The expected number of doctor visits of elderly females is roughly 63.65% higher than elderly men ceteris paribus.\n",
    "* A US $2,000 annual income increase will increase the number of doctor visits of an elderly person by roughly 0.71% ceteris paribus."
   ]
  }
 ],
 "metadata": {
  "kernelspec": {
   "display_name": "Python 3 (ipykernel)",
   "language": "python",
   "name": "python3"
  },
  "language_info": {
   "codemirror_mode": {
    "name": "ipython",
    "version": 3
   },
   "file_extension": ".py",
   "mimetype": "text/x-python",
   "name": "python",
   "nbconvert_exporter": "python",
   "pygments_lexer": "ipython3",
   "version": "3.9.7"
  }
 },
 "nbformat": 4,
 "nbformat_minor": 5
}
